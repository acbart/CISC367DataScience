{
 "cells": [
  {
   "cell_type": "code",
   "execution_count": null,
   "id": "approved-timing",
   "metadata": {},
   "outputs": [],
   "source": [
    "import pandas as pd\n",
    "\n",
    "df = pd.read_csv(\"/Users/michaelcarr/Downloads/Student_Enrollment.csv\")\n"
   ]
  },
  {
   "cell_type": "code",
   "execution_count": null,
   "id": "controversial-cheat",
   "metadata": {},
   "outputs": [],
   "source": [
    "import seaborn as sns\n",
    "df.info()"
   ]
  },
  {
   "cell_type": "code",
   "execution_count": null,
   "id": "accessory-circumstances",
   "metadata": {},
   "outputs": [],
   "source": [
    "df[\"District\"].value_counts()"
   ]
  },
  {
   "cell_type": "code",
   "execution_count": null,
   "metadata": {},
   "outputs": [],
   "source": [
    "df[\"Gender\"].value_counts()"
   ]
  },
  {
   "source": [
    "racial_breakdown = df.groupby(\"District\")[\"Race\"].value_counts()\n",
    "racial_breakdown"
   ],
   "cell_type": "code",
   "metadata": {},
   "execution_count": 8,
   "outputs": [
    {
     "output_type": "execute_result",
     "data": {
      "text/plain": [
       "District                    Race                            \n",
       "Academia Antonia Alonso     Hispanic/Latino                      914\n",
       "                            African American                     782\n",
       "                            White                                642\n",
       "                            All Students                         460\n",
       "                            Native American                       90\n",
       "                                                                ... \n",
       "Woodbridge School District  Multi-Racial                        2022\n",
       "                            All Students                        1556\n",
       "                            Asian American                      1188\n",
       "                            Native American                      283\n",
       "                            Native Hawaiian/Pacific Islander     195\n",
       "Name: Race, Length: 400, dtype: int64"
      ]
     },
     "metadata": {},
     "execution_count": 8
    }
   ]
  },
  {
   "source": [],
   "cell_type": "code",
   "metadata": {},
   "execution_count": null,
   "outputs": []
  }
 ],
 "metadata": {
  "kernelspec": {
   "display_name": "Python 3",
   "language": "python",
   "name": "python3"
  },
  "language_info": {
   "codemirror_mode": {
    "name": "ipython",
    "version": 3
   },
   "file_extension": ".py",
   "mimetype": "text/x-python",
   "name": "python",
   "nbconvert_exporter": "python",
   "pygments_lexer": "ipython3",
   "version": "3.9.1-final"
  }
 },
 "nbformat": 4,
 "nbformat_minor": 5
}