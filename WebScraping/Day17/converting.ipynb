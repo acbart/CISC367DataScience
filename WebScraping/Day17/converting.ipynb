{
 "metadata": {
  "language_info": {
   "codemirror_mode": {
    "name": "ipython",
    "version": 3
   },
   "file_extension": ".py",
   "mimetype": "text/x-python",
   "name": "python",
   "nbconvert_exporter": "python",
   "pygments_lexer": "ipython3",
   "version": "3.9.1-final"
  },
  "orig_nbformat": 2,
  "kernelspec": {
   "name": "python391jvsc74a57bd0bf9a38b6704f2707728a1317689de491d03bf3ce6d363b95cba2f50f2053b9ea",
   "display_name": "Python 3.9.1 64-bit ('venv')"
  },
  "metadata": {
   "interpreter": {
    "hash": "bf9a38b6704f2707728a1317689de491d03bf3ce6d363b95cba2f50f2053b9ea"
   }
  }
 },
 "nbformat": 4,
 "nbformat_minor": 2,
 "cells": [
  {
   "cell_type": "code",
   "execution_count": 2,
   "metadata": {},
   "outputs": [],
   "source": [
    "import pandas as pd"
   ]
  },
  {
   "cell_type": "code",
   "execution_count": 5,
   "metadata": {},
   "outputs": [
    {
     "output_type": "execute_result",
     "data": {
      "text/plain": [
       "                  Name                      Class  \\\n",
       "0  Monster Hunter Rise                         []   \n",
       "1            Bullfango  [Herbivore, Fanged Beast]   \n",
       "2               Felyne                   [Lynian]   \n",
       "3                Jaggi              [Bird Wyvern]   \n",
       "4               Gargwa              [Bird Wyvern]   \n",
       "\n",
       "                      Weakness  \\\n",
       "0                           []   \n",
       "1              [Fire, Thunder]   \n",
       "2  [Fire, Water, Thunder, Ice]   \n",
       "3                       [Fire]   \n",
       "4  [Fire, Water, Thunder, Ice]   \n",
       "\n",
       "                                             Habitat  \\\n",
       "0                                                 []   \n",
       "1  [Forest and Hills, Old Jungle, Old Swamp, Old ...   \n",
       "2                                   [All Main Areas]   \n",
       "3  [Deserted Island, Sandy Plains, Misty Peaks, A...   \n",
       "4  [Misty Peaks, Ancestral Steppe, Everwood, Jura...   \n",
       "\n",
       "                                   Size  \n",
       "0  [, , , , , , , , , , , , , , , , , ]  \n",
       "1                               [367cm]  \n",
       "2                            [103.37cm]  \n",
       "3                               [Small]  \n",
       "4                               [Small]  "
      ],
      "text/html": "<div>\n<style scoped>\n    .dataframe tbody tr th:only-of-type {\n        vertical-align: middle;\n    }\n\n    .dataframe tbody tr th {\n        vertical-align: top;\n    }\n\n    .dataframe thead th {\n        text-align: right;\n    }\n</style>\n<table border=\"1\" class=\"dataframe\">\n  <thead>\n    <tr style=\"text-align: right;\">\n      <th></th>\n      <th>Name</th>\n      <th>Class</th>\n      <th>Weakness</th>\n      <th>Habitat</th>\n      <th>Size</th>\n    </tr>\n  </thead>\n  <tbody>\n    <tr>\n      <th>0</th>\n      <td>Monster Hunter Rise</td>\n      <td>[]</td>\n      <td>[]</td>\n      <td>[]</td>\n      <td>[, , , , , , , , , , , , , , , , , ]</td>\n    </tr>\n    <tr>\n      <th>1</th>\n      <td>Bullfango</td>\n      <td>[Herbivore, Fanged Beast]</td>\n      <td>[Fire, Thunder]</td>\n      <td>[Forest and Hills, Old Jungle, Old Swamp, Old ...</td>\n      <td>[367cm]</td>\n    </tr>\n    <tr>\n      <th>2</th>\n      <td>Felyne</td>\n      <td>[Lynian]</td>\n      <td>[Fire, Water, Thunder, Ice]</td>\n      <td>[All Main Areas]</td>\n      <td>[103.37cm]</td>\n    </tr>\n    <tr>\n      <th>3</th>\n      <td>Jaggi</td>\n      <td>[Bird Wyvern]</td>\n      <td>[Fire]</td>\n      <td>[Deserted Island, Sandy Plains, Misty Peaks, A...</td>\n      <td>[Small]</td>\n    </tr>\n    <tr>\n      <th>4</th>\n      <td>Gargwa</td>\n      <td>[Bird Wyvern]</td>\n      <td>[Fire, Water, Thunder, Ice]</td>\n      <td>[Misty Peaks, Ancestral Steppe, Everwood, Jura...</td>\n      <td>[Small]</td>\n    </tr>\n  </tbody>\n</table>\n</div>"
     },
     "metadata": {},
     "execution_count": 5
    }
   ],
   "source": [
    "df = pd.read_json(\"/Users/michaelcarr/CISC367/CISC367DataScience/WebScraping/Day17/monster.json\")\n",
    "df.head()"
   ]
  },
  {
   "cell_type": "code",
   "execution_count": 8,
   "metadata": {},
   "outputs": [],
   "source": [
    "df.to_csv(\"/Users/michaelcarr/CISC367/CISC367DataScience/WebScraping/Day17/monster.csv\")"
   ]
  }
 ]
}