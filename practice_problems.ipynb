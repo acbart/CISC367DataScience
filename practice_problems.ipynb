{
 "cells": [
  {
   "cell_type": "code",
   "execution_count": 1,
   "id": "latin-numbers",
   "metadata": {},
   "outputs": [
    {
     "data": {
      "text/plain": [
       "2"
      ]
     },
     "execution_count": 1,
     "metadata": {},
     "output_type": "execute_result"
    }
   ],
   "source": [
    "add_one = lambda x: x + 1\n",
    "add_one(1)"
   ]
  },
  {
   "cell_type": "code",
   "execution_count": 6,
   "id": "compliant-climate",
   "metadata": {},
   "outputs": [
    {
     "data": {
      "text/plain": [
       "4"
      ]
     },
     "execution_count": 6,
     "metadata": {},
     "output_type": "execute_result"
    }
   ],
   "source": [
    "double = lambda x: 2*x\n",
    "double(2)"
   ]
  },
  {
   "cell_type": "code",
   "execution_count": 12,
   "id": "infectious-weekly",
   "metadata": {},
   "outputs": [
    {
     "name": "stdout",
     "output_type": "stream",
     "text": [
      "[2, 4, 6]\n"
     ]
    }
   ],
   "source": [
    "nums = [1,2,3,4,5,6]\n",
    "filter_even = list(filter(lambda x: x%2 == 0,nums))\n",
    "print(filter_even)"
   ]
  },
  {
   "cell_type": "code",
   "execution_count": 16,
   "id": "female-moore",
   "metadata": {},
   "outputs": [
    {
     "name": "stdout",
     "output_type": "stream",
     "text": [
      "True\n",
      "False\n"
     ]
    }
   ],
   "source": [
    "check_string = lambda x: True if x.startswith('H') else False\n",
    "print(check_string(\"Hello World\"))\n",
    "print(check_string(\"Bye\"))\n"
   ]
  },
  {
   "cell_type": "code",
   "execution_count": 19,
   "id": "grateful-horizontal",
   "metadata": {},
   "outputs": [
    {
     "name": "stdout",
     "output_type": "stream",
     "text": [
      "(88, 32)\n"
     ]
    }
   ],
   "source": [
    "def tuple_min_max(things):\n",
    "    lam_max = max(things,key=lambda item:item[1])[1]\n",
    "    lam_min = min(things,key=lambda item:item[1])[1]\n",
    "    return lam_max, lam_min\n",
    "\n",
    "things = [(\"A\",32),(\"B\",45),(\"C\",88)]\n",
    "print(tuple_min_max(things))"
   ]
  },
  {
   "cell_type": "code",
   "execution_count": null,
   "id": "furnished-approach",
   "metadata": {},
   "outputs": [],
   "source": []
  }
 ],
 "metadata": {
  "kernelspec": {
   "display_name": "Python 3",
   "language": "python",
   "name": "python3"
  },
  "language_info": {
   "codemirror_mode": {
    "name": "ipython",
    "version": 3
   },
   "file_extension": ".py",
   "mimetype": "text/x-python",
   "name": "python",
   "nbconvert_exporter": "python",
   "pygments_lexer": "ipython3",
   "version": "3.9.1"
  }
 },
 "nbformat": 4,
 "nbformat_minor": 5
}
